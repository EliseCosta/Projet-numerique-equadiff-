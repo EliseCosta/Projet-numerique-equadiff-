{
 "cells": [
  {
   "cell_type": "markdown",
   "metadata": {},
   "source": [
    "# Projet numérique 2 : choix du pas de temps"
   ]
  },
  {
   "cell_type": "markdown",
   "metadata": {},
   "source": [
    "Philomène Blot\n",
    "\n",
    "Elise Costa"
   ]
  },
  {
   "cell_type": "markdown",
   "metadata": {},
   "source": [
    "## Pas fixe "
   ]
  },
  {
   "cell_type": "markdown",
   "metadata": {},
   "source": [
    "### Q.1"
   ]
  },
  {
   "cell_type": "markdown",
   "metadata": {},
   "source": [
    "Un schéma de type Euler explicite est de la forme :\n",
    "    $x^{j+1} = x^j + \\Delta t f(t_j, x^j))$ si $\\dot x(t)) = f(t,x(t))$.\n",
    "    \n",
    "On l'implémente en python ci-dessous, en prenant garde à utiliser numpy car l'équation différentielle à résoudre à sûrement été réduite à l'ordre 1."
   ]
  },
  {
   "cell_type": "code",
   "execution_count": 1,
   "metadata": {},
   "outputs": [],
   "source": [
    "import numpy as np\n",
    "import matplotlib.pyplot as plt\n",
    "\n",
    "def solve_euler_explicit(f,x0,dt,t0=0.0, tf = 3) :\n",
    "    t_j = [t0]\n",
    "    x_j = [x0]\n",
    "    while t_j[-1] + dt <= tf :\n",
    "        x_i = x_j[-1]+ dt*f(t_j[-1], x_j[-1])\n",
    "        x_j.append(x_i)\n",
    "        t_i = t_j[-1] + dt\n",
    "        t_j.append(t_i)\n",
    "    return (np.array(t_j), np.array(x_j))"
   ]
  },
  {
   "cell_type": "markdown",
   "metadata": {},
   "source": [
    "### Test"
   ]
  },
  {
   "cell_type": "markdown",
   "metadata": {},
   "source": [
    "#### Notre équation à résoudre\n",
    "\n",
    "On veut résoudre l'équation : $y''+ y = 0$.  On pose :\n",
    "$\n",
    "x = \n",
    "\\begin{pmatrix}\n",
    "y \\\\\n",
    "y' \\\\\n",
    "\\end{pmatrix}\n",
    "$ pour revenir à l'ordre 1.\n",
    "\n",
    "On a alors $x' = \n",
    "\\begin{pmatrix}\n",
    "0 & 1 \\\\\n",
    "-1 & 0 \\\\\n",
    "\\end{pmatrix}\n",
    "x\n",
    "$\n",
    "\n",
    "Si la condition initiale vaut\n",
    "$\n",
    "x_{0} = \n",
    "\\begin{pmatrix}\n",
    "1 \\\\\n",
    "0 \\\\\n",
    "\\end{pmatrix}\n",
    "$,\n",
    "alors $ y = cos $.\n",
    "\n",
    "Vérifions que algorithme ne s'éloigne pas trop du résulat réel."
   ]
  },
  {
   "cell_type": "code",
   "execution_count": 2,
   "metadata": {},
   "outputs": [],
   "source": [
    "#Test1\n",
    "\n",
    "A = np.array([[0,1],[-1,0]])\n",
    "x0 = np.array([[1.0],[0.0]])\n",
    "\n",
    "\n",
    "def f(t,x) : \n",
    "    return np.dot(A,x)"
   ]
  },
  {
   "cell_type": "code",
   "execution_count": 3,
   "metadata": {},
   "outputs": [],
   "source": [
    "from math import cos"
   ]
  },
  {
   "cell_type": "code",
   "execution_count": 4,
   "metadata": {},
   "outputs": [
    {
     "data": {
      "text/plain": [
       "0.0"
      ]
     },
     "execution_count": 4,
     "metadata": {},
     "output_type": "execute_result"
    }
   ],
   "source": [
    "T1,X1 = solve_euler_explicit(f,x0,10**(-4))\n",
    "\n",
    "T1[0]"
   ]
  },
  {
   "cell_type": "markdown",
   "metadata": {},
   "source": [
    "#### Algorithme de test"
   ]
  },
  {
   "cell_type": "markdown",
   "metadata": {},
   "source": [
    "On cherche à trouver le maximum de $\\| x^j - x(t_j) \\|$ pour certains pas en puissance. Une fois ce maximum déterminé, on le divise par $\\Delta t$ (on ne divise que le maximum pour la complexité). On trace en fonction du pas $max\\frac{\\| x^j - x(t_j) \\|}{\\Delta t^2} $ et on essaye d'intuiter ce qui se passe."
   ]
  },
  {
   "cell_type": "code",
   "execution_count": null,
   "metadata": {},
   "outputs": [],
   "source": [
    "# liste de dt à tester\n",
    "t = [10**(-i) for i in range(5,0,-1)]\n",
    "\n",
    "# trouver le maximum pour g méthode de résolution\n",
    "def intuiter_cs() :\n",
    "    Lmaxi = []\n",
    "    for dt in t :\n",
    "        T, X = solve_euler_explicit(f,x0,dt)\n",
    "        m = [abs(X[i][0][0]-cos(T[i])) for i in range(len(T))]\n",
    "        maxi = max(m)/dt\n",
    "        Lmaxi.append(maxi)\n",
    "    plt.scatter(t,Lmaxi)\n",
    "    \n",
    "intuiter_cs()"
   ]
  },
  {
   "cell_type": "markdown",
   "metadata": {},
   "source": [
    "#### Résultats"
   ]
  },
  {
   "cell_type": "markdown",
   "metadata": {},
   "source": [
    "Il semble que $\\frac{\\| x^j - x(t_j) \\|}{\\Delta t} $ soit bornée par 1,495 environ. Le schéma semble bien convergent à l'ordre 1. Cela est d'ailleurs vrai par théorème de Lax : Euler explicite est consistant d'ordre 1 et stable par condition suffisante pour la stabilité ($f$ est $C^1$ par rapport à $x$ donc localement lipschitzienne par rapport à $x$)."
   ]
  },
  {
   "cell_type": "markdown",
   "metadata": {},
   "source": [
    "### Q.2"
   ]
  },
  {
   "cell_type": "markdown",
   "metadata": {},
   "source": [
    "#### Pourquoi la méthode de Heun est d'ordre deux (pour la consistance)"
   ]
  },
  {
   "cell_type": "markdown",
   "metadata": {},
   "source": [
    "On compare avec la méthode de Heun qui est d'ordre deux pour la consistance.\n",
    "\n",
    "Heun est défini par : $x^{j+1} = x^j + \\frac{\\Delta t}{2}[f(t_{j+1}, x^{t_j}) + f(t_{j+1}, x^j + \\Delta t f(t_{j+1}, x^{t_j}))]$\n",
    "\n",
    "Ainsi, pour Heun : $\\boxed{\\eta^{j+1} = \\frac{x(t(j+1) - x(t(j) - \\frac{\\Delta t}{2}[f(t_{j+1}, x(t_j)) + f(t_{j+1}, x(t_j) + \\Delta t f(t_{j+1}, x(t_j)))]}{\\Delta t}}$\n",
    "\n",
    "Or, comme $\\dot{x}(t) = f(t, x(t)) $ et que $f$ est $C^1$ alors x est $C^2$. Ainsi :\n",
    "\n",
    "$x(t_{j+1}) = x(t_j) + \\Delta t f(t_j, x(t_j)) + \\frac{\\Delta t^2}{2} \\ddot x (t_{j+1}) + O({\\Delta {t^{3}}})$\n",
    "\n",
    "Par règle de la chaîne, on obtient finalement :\n",
    "\n",
    "$\\boxed {x(t_{j+1}) = x(t_j) + \\Delta t f(t_j, x(t_j)) + \\frac{\\Delta t^2}{2} [\\frac{\\partial f}{\\partial t}(t_{j},x(t_{j})) + f(t_{j},x(t_{j}))\\frac{\\partial f}{\\partial x}(t_{j},x(t_{j})))] + O({\\Delta {t^{3}}})}$\n",
    "\n",
    "Par ailleurs :\n",
    "\n",
    "$\\boxed {f(t_{j+1}, x(t_j) + \\Delta t f(t_{j+1}, x(t_j))) = f(t_j, x(t_j)) + \\Delta t [\\frac{\\partial f}{\\partial t}(t_{j},x(t_{j})) + f(t_{j},x(t_{j}))\\frac{\\partial f}{\\partial x}(t_{j},x(t_{j})))] ++ O({\\Delta {t^{2}}})}$\n",
    "\n",
    "En combinant les trois encadrés : $\\color{red}{\\boxed {\\eta^{j+1} = O(\\Delta t^2)}}$, i.e. la méthode de Heun est d'ordre 2 pour la consistance.\n"
   ]
  },
  {
   "cell_type": "markdown",
   "metadata": {},
   "source": [
    "#### Implémentation"
   ]
  },
  {
   "cell_type": "code",
   "execution_count": 5,
   "metadata": {},
   "outputs": [],
   "source": [
    "def solve_heun(f,x0,dt,t0=0.0, tf = 3) :\n",
    "    t_j = [t0]\n",
    "    x_j = [x0]\n",
    "    while t_j[-1] + dt <= tf :\n",
    "        x_i = x_j[-1]+ dt*( f(t_j[-1], x_j[-1]) + f(t_j[-1]+dt, x_j[-1] + dt*f(t_j[-1], x_j[-1])))/2\n",
    "        x_j.append(x_i)\n",
    "        t_i = t_j[-1] + dt\n",
    "        t_j.append(t_i)\n",
    "    return (np.array(t_j), np.array(x_j))"
   ]
  },
  {
   "cell_type": "code",
   "execution_count": 6,
   "metadata": {},
   "outputs": [],
   "source": [
    "# test\n",
    "\n",
    "T2,X2 = solve_heun(f,x0,10**(-5), 0.0, 1.0)\n",
    "\n",
    "# la méthode est bien implémentée"
   ]
  },
  {
   "cell_type": "markdown",
   "metadata": {},
   "source": [
    "#### Algotithme de test"
   ]
  },
  {
   "cell_type": "markdown",
   "metadata": {},
   "source": [
    "On suit le même schéma que précédemment.\n",
    "\n",
    "On cherche à trouver le maximum de $\\| x^j - x(t_j) \\|$ pour certains pas en puissance. Une fois ce maximum déterminé, on le divise par $\\Delta t^2$ car ici, on veut tester la convergence à l'ordre 2. On trace en fonction du pas $max\\frac{\\| x^j - x(t_j) \\|}{\\Delta t^2} $ et on essaye d'intuiter ce qui se passe."
   ]
  },
  {
   "cell_type": "code",
   "execution_count": 8,
   "metadata": {},
   "outputs": [
    {
     "data": {
      "image/png": "[encoded data removed]",
      "text/plain": [
       "<Figure size 432x288 with 1 Axes>"
      ]
     },
     "metadata": {
      "needs_background": "light"
     },
     "output_type": "display_data"
    }
   ],
   "source": [
    "t = [10**(-i) for i in range(5,0,-1)]\n",
    "\n",
    "def intuiter_cs_2() :\n",
    "    Lmaxi = []\n",
    "    for dt in t :\n",
    "        T, X = solve_heun(f,x0,dt)\n",
    "        m = [abs(X[i][0][0]-cos(T[i])) for i in range(len(T))]\n",
    "        maxi = max(m)/(dt**2)\n",
    "        Lmaxi.append(maxi)\n",
    "    plt.scatter(t,Lmaxi)\n",
    "    \n",
    "intuiter_cs_2()"
   ]
  },
  {
   "cell_type": "markdown",
   "metadata": {},
   "source": [
    "Il semble que $\\frac{\\| x^j - x(t_j) \\|}{\\Delta t^2} $ soit bornée par 0,33 environ. Le schéma semble bien convergent d'ordre 2. Son ordre de convergence est donc plus élevé que celui d'Euler explicite : cette méthode fournira des résultats plus fins que ceux d'Euler explicite.\n",
    "\n",
    "Heun est bien convergent à l'ordre 2 par théorème de Lax : Euler explicite est consistant à l'ordre 2 et stable par condition suffisante pour la stabilité (montrée en exercice)."
   ]
  },
  {
   "cell_type": "markdown",
   "metadata": {},
   "source": [
    "## Adaptation au pas de temps"
   ]
  },
  {
   "cell_type": "markdown",
   "metadata": {},
   "source": [
    "### Q.3\n",
    "\n",
    "$\\tilde{x}(t_{j+1})$ = $e^{j+1} + x^{j+1}$ $(*)$\n",
    "\n",
    "D'après la définition de  et f étant $C^1$ d'après l'énoncé, $\\tilde{x}$ est de classe $C^2$.\n",
    "\n",
    "On effectue donc un DL à l'ordre 2 de $\\tilde{x}$  en $t_{j+1}$ :\n",
    "\n",
    "$\\tilde{x}(t_{j+1})$ = $\\tilde{x}$ $(t_{j} + \\Delta t)$\n",
    "                     = $\\tilde{x}$$(t_{j})$ + $ \\Delta {t}$$\\dot {\\tilde{x}}$$(t_{j})$ + $ \\Delta {t^{2}}$$\\ddot {\\tilde{x}}$$(t_{j})$× $\\frac{1}{2}$+$\\omicron ({\\Delta {t^{2}}})$   $(**)$\n",
    "                    \n",
    "\n",
    "Comme on suit un schéma d'Euler explicite d'ordre 1, on a la relation suivante :\n",
    "\n",
    "$x^{j} - x^{j+1}$ = - $\\Delta t$$f(t_{j},x^{j})$\n",
    "\n",
    "On a également :\n",
    "\n",
    "$\\tilde{x}(t_{j})$ = $x^{j}$\n",
    "et\n",
    "\n",
    "$\\dot {\\tilde{x}}$$(t_{j})$ = $ f(t_{j}, \\tilde{x}(t_{j}))$\n",
    "\n",
    "En combinant les trois dernières équations avec\n",
    "$(*)$ et $(**)$ , on obtient :\n",
    "\n",
    "$ {e^{j+1}}$ = $\\Delta {t^{2}}$($\\frac{\\partial f}{\\partial t}$$(t_{j}$$,x^{j})$ + $f(t_{j},x^{j})$$\\frac{\\partial f}{\\partial x}$$(t_{j}$$,x^{j})$)×$\\frac{1}{2}$ + $\\omicron ({\\Delta {t}})$\n",
    "\n",
    "Comme f est classe $C^1$, on peut effectuer un DL à l'ordre 1 de f en $(t_{j+1}$$,x^{j+1})$ :\n",
    "\n",
    "$\\Delta t$$\\frac{\\partial f}{\\partial t}$$(t_{j}$$,x^{j})$ + $\\Delta t$$f(t_{j},x^{j})$$\\frac{\\partial f}{\\partial x}$$(t_{j}$$,x^{j})$ = $f(t_{j+1}$$,x^{j+1})$ - $f(t_{j}$$,x^{j})$ + $\\omicron ({\\Delta {t}})$ $(****)$\n",
    "\n",
    "En multipliant $(****)$ par $\\Delta {t}$× $\\frac{1}{2}$, on a en combinant avec $(***)$ :\n",
    "\n",
    "\n",
    "${e^{j+1}}$ = $\\Delta t$$(f(t_{j+1}$$,x^{j+1})$ - $f(t_{j}$$,x^{j}))$×$\\frac{1}{2}$ + $\\omicron ({\\Delta {t^{2}}})$\n",
    "\n",
    "En passant au module, on obtient donc la formule souhaitée :\n",
    "\n",
    "$\\color{red}{\\boxed {\\| e^{j+1}\\| = \\| {\\Delta t(f(t_{j+1},x^{j+1}) - f(t_{j},x^{j}))×\\frac{1}{2}}\\| + Ο(\\Delta {t^{3}})}} $"
   ]
  },
  {
   "cell_type": "markdown",
   "metadata": {},
   "source": [
    "### Q.4\n",
    "\n",
    "On a définit $\\tilde{x}(t_j) = x^j $. On est donc dans le cas $e^{j+1} = \\Delta t_{j} \\ \\eta^{j+1}$.\n",
    "\n",
    "Or, le schéma d'Euler explicite est consistant d'ordre 1. Ainsi, il existe $c_s$ une constante telle que, pour tout $ 0 \\ \\le \\ j \\ \\le \\ J-1$ : $\\| \\eta^{j+1} \\| \\le c_s \\Delta t_{j} $ donc a fortiori :  $\\| \\eta^{j+1} \\| = \\mathrm{O} (c_s \\Delta t_{j}) = \\mathrm{O} (\\Delta t_{j}) $. Ainsi : $\\boxed{e^{j+1} = \\mathrm{O} ((\\Delta t_{j})^2)}$.\n",
    "\n",
    "$[1]$ Si $\\| e^{j+1} \\| > Tol_{abs} $, notre programme n'accepte pas l'erreur commise car elle est considérée comme trop importante. Le programme va donc chercher à déterminer un pas plus petit telle que l'erreur (absolue) locale correspondante soit inférieure ou égale à $Tol_{abs}$. Le pas doit en effet être forcément plus petit pour que l'on se rapproche des conditions où la linéarisation donne un résultat plus proche de la valeur réelle. Or $\\Delta t_{new} < \\Delta t_{j}$ par construction de $\\Delta t_{new}$ si $\\| e^{j+1} \\| > Tol_{abs} $ ce qui est rassurant.\n",
    "\n",
    "Plus précisément :\n",
    "\n",
    "On sait que $e^{j+1} = \\mathrm{O} ((\\Delta t_{j})^2)$ donc $ \\sqrt{\\|e^{j+1}\\|} = \\mathrm{O} (\\Delta t_{j}) \\ \\ [*]$.\n",
    "\n",
    "Or, on voudrait que le nouveau pas $\\Delta t_{new}$ soit tel que $ \\sqrt{\\|e^{new}\\|} \\le \\sqrt{Tol_{abs}}$. On choisit : $ \\sqrt{\\|e^{new}\\|} = \\sqrt{Tol_{abs}}$.\n",
    "\n",
    "$[*]$ donne : il existe $h$ fonction bornée au voisinage telle que $\\sqrt{\\|e^{X}\\|} = h(\\Delta t_{X}) \\Delta t_{}$. En première approximation, si on considère que les variations de h sont faibles, on a : $ \\frac{\\sqrt{\\|e^{j+1}\\|}}{(\\Delta t_{j})} = \\frac{\\sqrt{\\|e^{new}\\|}}{(\\Delta t_{new})} = \\frac{\\sqrt{Tol_{abs}}}{(\\Delta t_{new})}$.\n",
    "\n",
    "On a donc bien, en posant $ \\Delta t_{j} = \\Delta t $ : $\\color{red}{\\boxed{ \\Delta t_{new} = \\Delta t \\sqrt{\\frac{ Tol_{abs}}{\\|e^{j+1}\\|}}}}$.\n",
    "\n",
    "On peut de plus affiner ce résultat en multipliant  $ \\Delta t_{new} $ par $C$ une constante appartenant à $\\left]0,1\\right[$ qui ne soit pas trop faible pour ne pas ralentir le programmme. On peut penser que $ C = \\frac{1}{2} $ est un bon compromis.\n",
    "\n",
    "$[2]$ Si $\\| e^{j+1} \\| < Tol_{abs} $, une stratégie analogue nous permet d'augmenter  $ \\Delta t_{new} $.\n",
    "\n",
    "$[3]$ Si $\\| e^{j+1} \\| = Tol_{abs} $, $ \\Delta t_{new} $ vaut $ \\Delta t $."
   ]
  },
  {
   "cell_type": "markdown",
   "metadata": {},
   "source": [
    "### Q.5"
   ]
  },
  {
   "cell_type": "code",
   "execution_count": 1,
   "metadata": {},
   "outputs": [],
   "source": [
    "def solve_ivp_euler_explicit_variable_step(f, t0, x0, t_f, dtmin = 1e-16, dtmax = 0.01, atol = 1e-6):\n",
    "    dt = dtmax/10; # initial integration step\n",
    "    ts, xs = [t0], [x0]  # storage variables\n",
    "    t = t0\n",
    "    ti = 0  # internal time keeping track of time since latest storage point : must remain below dtmax\n",
    "    x = x0\n",
    "    while ts[-1] < t_f:\n",
    "        while ti < dtmax: # on veut avoir un pas plus grand\n",
    "            t_next, ti_next, x_next = t + dt, ti + dt, x + dt * f(x)\n",
    "            x_back = x_next - dt * f(x_next)\n",
    "            ratio_abs_error = atol / (linalg.norm(x_back-x)/2)\n",
    "            dt = 0.9 * dt * sqrt(ratio_abs_error)\n",
    "            if dt < dtmin:\n",
    "                raise ValueError(\"Time step below minimum\")\n",
    "            elif dt > dtmax/2:\n",
    "                dt = dtmax/2\n",
    "            t, ti, x = t_next, ti_next, x_next\n",
    "        dt2DT = dtmax - ti # time left to dtmax\n",
    "        t_next, ti_next, x_next = t + dt2DT, 0, x + dt2DT * f(x)\n",
    "        ts = vstack([ts,t_next])\n",
    "        xs = vstack([xs,x_next])\n",
    "        t, ti, x = t_next, ti_next, x_next\n",
    "    return (ts, xs.T)"
   ]
  },
  {
   "cell_type": "markdown",
   "metadata": {},
   "source": [
    "On prend un argument une fonction $f$ telle que $\\dot {x} = f(t,x(t))$, des conditions initiales $t_0$ et $x_0$, et finale $t_f$. Mais ici, on va chercher à calculer des points intermédiaires entre les valeurs du pas $dtmax$ afin de rester le plus proche possible de la vraie solution.\n",
    "\n",
    "Ces valeurs intermédiaires ne seront pas ajoutées dans la liste afin de ne pas trop augmenter la complexité en mémoire.\n",
    "\n",
    "Pour calculer les points intermédiaires, on adapte le pas avec la méthode définie ci-dessus. La norme de $\\|e^{j+1}\\|$ est calculée à l'aide de l'expression : $ \\| e^{j+1}\\| = \\| {\\Delta t(f(t_{j+1},x^{j+1}) - f(t_{j},x^{j}))×\\frac{1}{2}}\\| + Ο(\\Delta {t^{3}}) $ que l'on approxime par $\\| e^{j+1}\\| = \\| {\\Delta t(f(t_{j+1},x^{j+1}) - f(t_{j},x^{j}))×\\frac{1}{2}}\\|$. Des sécurités sont de plus ajoutées pour affiner ce parcours intermédiaire : on multiplie l'expression du nouveau pas intermédiaire par $0.9$, si ce pas intermédiaire est plus petit que $dtmin$, on arrête le programme afin d'éviter qu'il tourne en faisant du sur-place ou presque, et si le pas est trop grand (ici plus grand strictement que $\\frac{dtmax}{2}$), alors on le limite à $\\frac{dtmax}{2}$.\n",
    "\n",
    "A partir du moment où les calculs intermédiaires parcourent une largeur $dtmax$, on souhaite stocker la valeur en $ts[-1] + dtmax$. Pour se faire, on calcule $dt2DT$ qui est distance (négative ou nulle) qui nous sépare de $ts[-1] + dtmax$. On calcule alors la valeur de $x$ correspondant. On complète alors $ts$ et $xs$.\n",
    "\n",
    "On itère ce processus jusqu'à ce que l'on dépasse la valeur maximale en temps $t_f$.\n",
    "\n"
   ]
  },
  {
   "cell_type": "code",
   "execution_count": null,
   "metadata": {},
   "outputs": [],
   "source": []
  },
  {
   "cell_type": "code",
   "execution_count": null,
   "metadata": {},
   "outputs": [],
   "source": []
  },
  {
   "cell_type": "code",
   "execution_count": null,
   "metadata": {},
   "outputs": [],
   "source": []
  }
 ],
 "metadata": {
  "kernelspec": {
   "display_name": "Python 3",
   "language": "python",
   "name": "python3"
  },
  "language_info": {
   "codemirror_mode": {
    "name": "ipython",
    "version": 3
   },
   "file_extension": ".py",
   "mimetype": "text/x-python",
   "name": "python",
   "nbconvert_exporter": "python",
   "pygments_lexer": "ipython3",
   "version": "3.7.4"
  }
 },
 "nbformat": 4,
 "nbformat_minor": 2
}
